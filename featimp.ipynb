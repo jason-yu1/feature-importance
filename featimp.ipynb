{
 "cells": [
  {
   "cell_type": "code",
   "execution_count": 1,
   "metadata": {},
   "outputs": [],
   "source": [
    "import matplotlib.pyplot as plt\n",
    "import numpy as np\n",
    "import pandas as pd\n",
    "from featimp import *\n",
    "import matplotlib.pyplot as plt"
   ]
  },
  {
   "cell_type": "markdown",
   "metadata": {
    "pycharm": {
     "name": "#%% md\n"
    }
   },
   "source": [
    "# Feature Importance"
   ]
  },
  {
   "cell_type": "markdown",
   "metadata": {
    "pycharm": {
     "name": "#%% md\n"
    }
   },
   "source": [
    "## Overview"
   ]
  },
  {
   "cell_type": "markdown",
   "metadata": {
    "pycharm": {
     "name": "#%% md\n"
    }
   },
   "source": [
    "Feature importance is a very important in today's data science paradigm as it can greatly impact model perform as well as provide useful insights. In my report I will be discussing some current trends in the data science industry for computing feature importance.\n",
    "\n",
    "Feature importance calculation methods fall into two main categories. First, we have methods that work directly from the data itself. On the other hand, there are also model based strategies for determining how useful a feature is."
   ]
  },
  {
   "cell_type": "markdown",
   "metadata": {
    "pycharm": {
     "name": "#%% md\n"
    }
   },
   "source": [
    "# Importance Strategies Working Directly From the Data"
   ]
  },
  {
   "cell_type": "markdown",
   "metadata": {
    "pycharm": {
     "name": "#%% md\n"
    }
   },
   "source": [
    "## Spearman's Rank Correlation Coefficient"
   ]
  },
  {
   "cell_type": "markdown",
   "metadata": {
    "pycharm": {
     "name": "#%% md\n"
    }
   },
   "source": [
    "One of the simplest techniques to compute feature importance is using Spearman's rank correlation coefficient. For this method, we calculate the coefficients for each feature and rank them from largest to smallest, with the largest being the most important.  This method is considered to measure \"single-feature relevance\" and works well with independent features.  It however can struggle in the presence of codependent features. This is because similar features will receive similar correlation coefficients to each other, even though only one should be considered important for the model."
   ]
  },
  {
   "cell_type": "markdown",
   "metadata": {},
   "source": [
    "To illustrate some of the algorithms in this report, we will be using the well known automobile mpg dataset, where we are trying to use a car's charecteristics to predict its mpg.  \n",
    "In the graph below, we can see that Spearman's correlation coefficient indicates weight to be the most important variable."
   ]
  },
  {
   "cell_type": "code",
   "execution_count": 2,
   "metadata": {
    "pycharm": {
     "name": "#%%\n"
    }
   },
   "outputs": [],
   "source": [
    "automobile_df = pd.read_csv('auto-mpg.csv')\n",
    "automobile_df = automobile_df[automobile_df['horsepower'] != '?']\n",
    "automobile_df.drop('car name', inplace=True, axis=1)\n",
    "automobile_df['horsepower'] = automobile_df['horsepower'].astype(int)"
   ]
  },
  {
   "cell_type": "code",
   "execution_count": 3,
   "metadata": {
    "pycharm": {
     "name": "#%%\n"
    }
   },
   "outputs": [],
   "source": [
    "columns = ['cylinders', 'displacement', 'horsepower', 'weight', 'acceleration', 'model year', 'origin']\n",
    "target = 'mpg'\n",
    "importances = []\n",
    "for col in columns:\n",
    "    importances.append(spearman_rank(automobile_df, target, col))"
   ]
  },
  {
   "cell_type": "code",
   "execution_count": 4,
   "metadata": {
    "pycharm": {
     "name": "#%%\n"
    }
   },
   "outputs": [],
   "source": [
    "spearman_importances = pd.DataFrame({'feature':columns, 'p':importances})"
   ]
  },
  {
   "cell_type": "code",
   "execution_count": 5,
   "metadata": {
    "pycharm": {
     "name": "#%%\n"
    }
   },
   "outputs": [
    {
     "data": {
      "image/png": "[encoded data removed]",
      "text/plain": [
       "<Figure size 576x432 with 1 Axes>"
      ]
     },
     "metadata": {
      "needs_background": "light"
     },
     "output_type": "display_data"
    }
   ],
   "source": [
    "spearman_importances.sort_values('p', inplace=True)\n",
    "x = spearman_importances['feature']\n",
    "y = spearman_importances['p']\n",
    "fig, ax = plt.subplots(figsize=(8,6))\n",
    "plt.barh(x, y)\n",
    "ax.spines['right'].set_visible(False)\n",
    "ax.spines['top'].set_visible(False)\n",
    "plt.show()"
   ]
  },
  {
   "cell_type": "markdown",
   "metadata": {
    "pycharm": {
     "name": "#%% md\n"
    }
   },
   "source": [
    "### PCA"
   ]
  },
  {
   "cell_type": "markdown",
   "metadata": {},
   "source": [
    "Another data based method for feature importance is using principle component analysis (PCA). PCA is different from Spearman's in that it does not look at the response variable at all. PCA transforms data into a different space of vectors and identifies features that explain the most variance. We can look at the first principal component if it explains enough variance and see which variables are the most important inside."
   ]
  },
  {
   "cell_type": "markdown",
   "metadata": {},
   "source": [
    "Using PCA it seems that displacement is the most important variable and model year was the least important variable."
   ]
  },
  {
   "cell_type": "code",
   "execution_count": 7,
   "metadata": {
    "pycharm": {
     "name": "#%%\n"
    }
   },
   "outputs": [],
   "source": [
    "pca_importance = pd.DataFrame(pca_features(automobile_df, columns, 5)).T.reset_index().rename({'index':'feature', 0:'score'}, axis=1)"
   ]
  },
  {
   "cell_type": "code",
   "execution_count": 8,
   "metadata": {
    "pycharm": {
     "name": "#%%\n"
    }
   },
   "outputs": [
    {
     "data": {
      "image/png": "[encoded data removed]",
      "text/plain": [
       "<Figure size 576x432 with 1 Axes>"
      ]
     },
     "metadata": {
      "needs_background": "light"
     },
     "output_type": "display_data"
    }
   ],
   "source": [
    "pca_importance.sort_values('score', inplace=True)\n",
    "x = pca_importance['feature']\n",
    "y = pca_importance['score']\n",
    "fig, ax = plt.subplots(figsize=(8,6))\n",
    "plt.barh(x, y)\n",
    "ax.spines['right'].set_visible(False)\n",
    "ax.spines['top'].set_visible(False)\n",
    "\n",
    "plt.show()"
   ]
  },
  {
   "cell_type": "markdown",
   "metadata": {
    "pycharm": {
     "name": "#%% md\n"
    }
   },
   "source": [
    "# Model-based impoortance strategies"
   ]
  },
  {
   "cell_type": "markdown",
   "metadata": {
    "pycharm": {
     "name": "#%% md\n"
    }
   },
   "source": [
    "## Permutation Importance"
   ]
  },
  {
   "cell_type": "markdown",
   "metadata": {},
   "source": [
    "Moving on to model based strategies, we have permutation importance. Before going into the algorithm, I want to highlight one of the current inefficiencies in today's feature importance calculations. Currently, the default feature importance for random forest in sklearn is calculated using gini drop. This means they are keeping track of which variables accumulate the most drops in terms of gini. The problem with this approach is that it is biased towards high cardinality or continuous features."
   ]
  },
  {
   "cell_type": "markdown",
   "metadata": {},
   "source": [
    "The algorithm for permutation importance is as follows:\n",
    "1. Compute validation metric for model trained on all features\n",
    "2. Shuffle the data in column x in validation set\n",
    "3. Recompute validation metric\n",
    "4. Importance score is the change in metric.\n",
    "\n",
    "The reasoning behing permutation importance is that if a column is important, making that column random should cause a lot of randomness, thus important.  \n",
    "\n",
    "For our dataset, we can actually observe that car year is now the most important variable now."
   ]
  },
  {
   "cell_type": "code",
   "execution_count": 9,
   "metadata": {
    "pycharm": {
     "name": "#%%\n"
    }
   },
   "outputs": [],
   "source": [
    "X_train, X_test, y_train, y_test = train_test_split(automobile_df[columns], automobile_df['mpg'], test_size=0.2, random_state=23)"
   ]
  },
  {
   "cell_type": "code",
   "execution_count": 10,
   "metadata": {
    "pycharm": {
     "name": "#%%\n"
    }
   },
   "outputs": [
    {
     "data": {
      "text/plain": [
       "XGBRegressor(base_score=0.5, booster='gbtree', colsample_bylevel=1,\n",
       "             colsample_bynode=1, colsample_bytree=1, enable_categorical=False,\n",
       "             gamma=0, gpu_id=-1, importance_type=None,\n",
       "             interaction_constraints='', learning_rate=0.300000012,\n",
       "             max_delta_step=0, max_depth=6, min_child_weight=1, missing=nan,\n",
       "             monotone_constraints='()', n_estimators=100, n_jobs=10,\n",
       "             num_parallel_tree=1, predictor='auto', random_state=0, reg_alpha=0,\n",
       "             reg_lambda=1, scale_pos_weight=1, subsample=1, tree_method='exact',\n",
       "             validate_parameters=1, verbosity=None)"
      ]
     },
     "execution_count": 10,
     "metadata": {},
     "output_type": "execute_result"
    }
   ],
   "source": [
    "model = xgb.XGBRegressor()\n",
    "model.fit(X_train, y_train)"
   ]
  },
  {
   "cell_type": "code",
   "execution_count": 11,
   "metadata": {
    "pycharm": {
     "name": "#%%\n"
    }
   },
   "outputs": [],
   "source": [
    "permutation_importances = pd.DataFrame({'feature':columns, 'score':permutation_importance(model, X_test, y_test)})"
   ]
  },
  {
   "cell_type": "code",
   "execution_count": 12,
   "metadata": {
    "pycharm": {
     "name": "#%%\n"
    }
   },
   "outputs": [
    {
     "data": {
      "image/png": "[encoded data removed]",
      "text/plain": [
       "<Figure size 576x432 with 1 Axes>"
      ]
     },
     "metadata": {
      "needs_background": "light"
     },
     "output_type": "display_data"
    }
   ],
   "source": [
    "permutation_importances.sort_values('score', inplace=True)\n",
    "x = permutation_importances['feature']\n",
    "y = permutation_importances['score']\n",
    "fig, ax = plt.subplots(figsize=(8,6))\n",
    "plt.barh(x, y)\n",
    "ax.spines['right'].set_visible(False)\n",
    "ax.spines['top'].set_visible(False)\n",
    "plt.show()"
   ]
  },
  {
   "cell_type": "markdown",
   "metadata": {
    "pycharm": {
     "name": "#%% md\n"
    }
   },
   "source": [
    "## Drop Column Importance"
   ]
  },
  {
   "cell_type": "markdown",
   "metadata": {},
   "source": [
    "Drop column importance is a similar algorithm to permutation but drops column x instead of shuffling it. The algorithm is as follows:\n",
    "1. Compute validation metric for a model trained on all features.\n",
    "2. Drop column x from training set.\n",
    "3. Retrain the model\n",
    "4. Recompute the validation metric\n",
    "5. Importance score is the change in metric \n",
    "\n",
    "The drop importance method also shows that model year is the most important feature."
   ]
  },
  {
   "cell_type": "code",
   "execution_count": 13,
   "metadata": {
    "pycharm": {
     "name": "#%%\n"
    }
   },
   "outputs": [],
   "source": [
    "model = xgb.XGBRegressor()\n",
    "drop_column_importances = pd.DataFrame({'feature':columns,\n",
    "                                        'score':drop_column_importance(model, X_train, y_train, X_test, y_test)})"
   ]
  },
  {
   "cell_type": "code",
   "execution_count": 14,
   "metadata": {
    "pycharm": {
     "name": "#%%\n"
    }
   },
   "outputs": [
    {
     "data": {
      "image/png": "[encoded data removed]",
      "text/plain": [
       "<Figure size 576x432 with 1 Axes>"
      ]
     },
     "metadata": {
      "needs_background": "light"
     },
     "output_type": "display_data"
    }
   ],
   "source": [
    "drop_column_importances.sort_values('score', inplace=True)\n",
    "x = drop_column_importances['feature']\n",
    "y = drop_column_importances['score']\n",
    "fig, ax = plt.subplots(figsize=(8,6))\n",
    "plt.barh(x, y)\n",
    "ax.spines['right'].set_visible(False)\n",
    "ax.spines['top'].set_visible(False)\n",
    "plt.show()"
   ]
  },
  {
   "cell_type": "markdown",
   "metadata": {
    "pycharm": {
     "name": "#%% md\n"
    }
   },
   "source": [
    "## Automatic Feature Selection Algorithm"
   ]
  },
  {
   "cell_type": "markdown",
   "metadata": {},
   "source": [
    "Now that we are familiar with different feature importance algorithms, how can we use these to actually select our features? I wrote a function that automates this process. The algorith goes:\n",
    "1. Gets a baseline validation metric\n",
    "2. Computes the feature importances using the specified method\n",
    "3. Drop the least important variable and retrain the model.\n",
    "4. Recompute the validation metric.\n",
    "5. If the validation metric is worse, then we reverse the drop and return the columns we have\n",
    "6. If the validation metric is not worse, then we continue by dropping the next worse column and repeating this process until the validation metric worsens."
   ]
  },
  {
   "cell_type": "code",
   "execution_count": 18,
   "metadata": {
    "pycharm": {
     "name": "#%%\n"
    }
   },
   "outputs": [
    {
     "data": {
      "text/plain": [
       "Index(['cylinders', 'displacement', 'horsepower', 'weight', 'acceleration',\n",
       "       'model year'],\n",
       "      dtype='object')"
      ]
     },
     "execution_count": 18,
     "metadata": {},
     "output_type": "execute_result"
    }
   ],
   "source": [
    "model = xgb.XGBRegressor()\n",
    "auto_feature_select(model, automobile_df[columns], automobile_df['mpg'], method='drop_column')"
   ]
  },
  {
   "cell_type": "markdown",
   "metadata": {
    "pycharm": {
     "name": "#%%\n"
    }
   },
   "source": [
    "After running the auto feature select function, we are returned with all of the columns except for origin."
   ]
  },
  {
   "cell_type": "markdown",
   "metadata": {},
   "source": [
    "# Conclusion"
   ]
  },
  {
   "cell_type": "markdown",
   "metadata": {},
   "source": [
    "Feature importance is a very interesting subject and there are many new developments constantly being developed. I hope that this article introduced you to some new techniques and will help you in your data science journey. Feel free to check out the code for the implementations in this report in the associated file in this repository."
   ]
  }
 ],
 "metadata": {
  "interpreter": {
   "hash": "79440e59588285bf49e6cc14b2d9757c03f48135f2479ff3cddb98ac7c030cf4"
  },
  "kernelspec": {
   "display_name": "Python 3 (ipykernel)",
   "language": "python",
   "name": "python3"
  },
  "language_info": {
   "codemirror_mode": {
    "name": "ipython",
    "version": 3
   },
   "file_extension": ".py",
   "mimetype": "text/x-python",
   "name": "python",
   "nbconvert_exporter": "python",
   "pygments_lexer": "ipython3",
   "version": "3.9.7"
  }
 },
 "nbformat": 4,
 "nbformat_minor": 2
}
